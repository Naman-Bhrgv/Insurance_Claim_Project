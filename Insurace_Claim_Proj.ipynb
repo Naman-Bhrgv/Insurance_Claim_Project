{
  "nbformat": 4,
  "nbformat_minor": 0,
  "metadata": {
    "colab": {
      "provenance": []
    },
    "kernelspec": {
      "name": "python3",
      "display_name": "Python 3"
    },
    "language_info": {
      "name": "python"
    }
  },
  "cells": [
    {
      "cell_type": "code",
      "source": [
        "!unzip /content/drive/MyDrive/Hospital+Patient+Records.zip -d /content/Hospital_Record"
      ],
      "metadata": {
        "colab": {
          "base_uri": "https://localhost:8080/"
        },
        "id": "vzoSEIBCnaoO",
        "outputId": "b3aa303c-8553-4035-eec1-be88e798ce1d"
      },
      "execution_count": 2,
      "outputs": [
        {
          "output_type": "stream",
          "name": "stdout",
          "text": [
            "Archive:  /content/drive/MyDrive/Hospital+Patient+Records.zip\n",
            "  inflating: /content/Hospital_Record/data_dictionary.csv  \n",
            "  inflating: /content/Hospital_Record/__MACOSX/._data_dictionary.csv  \n",
            "  inflating: /content/Hospital_Record/citation.txt  \n",
            "  inflating: /content/Hospital_Record/__MACOSX/._citation.txt  \n",
            "  inflating: /content/Hospital_Record/encounters.csv  \n",
            "  inflating: /content/Hospital_Record/__MACOSX/._encounters.csv  \n",
            "  inflating: /content/Hospital_Record/organizations.csv  \n",
            "  inflating: /content/Hospital_Record/__MACOSX/._organizations.csv  \n",
            "  inflating: /content/Hospital_Record/patients.csv  \n",
            "  inflating: /content/Hospital_Record/__MACOSX/._patients.csv  \n",
            "  inflating: /content/Hospital_Record/payers.csv  \n",
            "  inflating: /content/Hospital_Record/__MACOSX/._payers.csv  \n",
            "  inflating: /content/Hospital_Record/procedures.csv  \n",
            "  inflating: /content/Hospital_Record/__MACOSX/._procedures.csv  \n"
          ]
        }
      ]
    },
    {
      "cell_type": "code",
      "execution_count": 3,
      "metadata": {
        "id": "z68w6YUdnEEj"
      },
      "outputs": [],
      "source": [
        "import pandas as pd"
      ]
    },
    {
      "cell_type": "code",
      "source": [
        "df1=pd.read_csv(\"/content/Hospital_Record/patients.csv\")\n",
        "df2=pd.read_csv(\"/content/Hospital_Record/encounters.csv\")\n",
        "df3=pd.read_csv(\"/content/Hospital_Record/organizations.csv\")\n",
        "df4=pd.read_csv(\"/content/Hospital_Record/payers.csv\")\n",
        "df5=pd.read_csv(\"/content/Hospital_Record/procedures.csv\")"
      ],
      "metadata": {
        "id": "HutK210Vnyek"
      },
      "execution_count": 4,
      "outputs": []
    },
    {
      "cell_type": "code",
      "source": [
        "df1.columns"
      ],
      "metadata": {
        "colab": {
          "base_uri": "https://localhost:8080/"
        },
        "id": "Y-LEaZOvoW-J",
        "outputId": "215a2bfc-74ed-4710-98cf-4cfaae0c1ec1"
      },
      "execution_count": null,
      "outputs": [
        {
          "output_type": "execute_result",
          "data": {
            "text/plain": [
              "Index(['Id', 'BIRTHDATE', 'DEATHDATE', 'PREFIX', 'FIRST', 'LAST', 'SUFFIX',\n",
              "       'MAIDEN', 'MARITAL', 'RACE', 'ETHNICITY', 'GENDER', 'BIRTHPLACE',\n",
              "       'ADDRESS', 'CITY', 'STATE', 'COUNTY', 'ZIP', 'LAT', 'LON'],\n",
              "      dtype='object')"
            ]
          },
          "metadata": {},
          "execution_count": 54
        }
      ]
    },
    {
      "cell_type": "code",
      "source": [
        "# prompt: add PATIENT prefix to all column names in df1\n",
        "df1 = df1.rename(columns={'ORGANIZATION': 'ORGANIZATION_Id'})\n",
        "\n",
        "df1 = df1.rename(columns={'PAYER': 'PAYER_Id'})\n",
        "\n",
        "exclude_col=['ORGANIZATION_Id','PAYER_Id']\n",
        "\n",
        "df1 = df1.rename(columns={col: f'PATIENT_{col}' for col in df1.columns if col not in exclude_col})\n",
        "\n",
        "df1.columns\n"
      ],
      "metadata": {
        "colab": {
          "base_uri": "https://localhost:8080/"
        },
        "id": "Ov-F8N0GuNZO",
        "outputId": "62bc2c1a-b967-4b2a-c8cd-9444334f3731"
      },
      "execution_count": 5,
      "outputs": [
        {
          "output_type": "execute_result",
          "data": {
            "text/plain": [
              "Index(['PATIENT_Id', 'PATIENT_BIRTHDATE', 'PATIENT_DEATHDATE',\n",
              "       'PATIENT_PREFIX', 'PATIENT_FIRST', 'PATIENT_LAST', 'PATIENT_SUFFIX',\n",
              "       'PATIENT_MAIDEN', 'PATIENT_MARITAL', 'PATIENT_RACE',\n",
              "       'PATIENT_ETHNICITY', 'PATIENT_GENDER', 'PATIENT_BIRTHPLACE',\n",
              "       'PATIENT_ADDRESS', 'PATIENT_CITY', 'PATIENT_STATE', 'PATIENT_COUNTY',\n",
              "       'PATIENT_ZIP', 'PATIENT_LAT', 'PATIENT_LON'],\n",
              "      dtype='object')"
            ]
          },
          "metadata": {},
          "execution_count": 5
        }
      ]
    },
    {
      "cell_type": "code",
      "source": [
        "df2 = df2.rename(columns={'PATIENT': 'PATIENT_Id'})\n",
        "\n",
        "exclude_col='PATIENT_Id'\n",
        "\n",
        "df2 = df2.rename(columns={col: f'encounter_{col}' for col in df2.columns if col != exclude_col})\n",
        "\n",
        "df2.columns"
      ],
      "metadata": {
        "colab": {
          "base_uri": "https://localhost:8080/"
        },
        "id": "CseZxAgEoiVk",
        "outputId": "80fa0c57-f3cb-4bf4-9bef-6f0362616ed8"
      },
      "execution_count": 6,
      "outputs": [
        {
          "output_type": "execute_result",
          "data": {
            "text/plain": [
              "Index(['encounter_Id', 'encounter_START', 'encounter_STOP', 'PATIENT_Id',\n",
              "       'encounter_ORGANIZATION', 'encounter_PAYER', 'encounter_ENCOUNTERCLASS',\n",
              "       'encounter_CODE', 'encounter_DESCRIPTION',\n",
              "       'encounter_BASE_ENCOUNTER_COST', 'encounter_TOTAL_CLAIM_COST',\n",
              "       'encounter_PAYER_COVERAGE', 'encounter_REASONCODE',\n",
              "       'encounter_REASONDESCRIPTION'],\n",
              "      dtype='object')"
            ]
          },
          "metadata": {},
          "execution_count": 6
        }
      ]
    },
    {
      "cell_type": "code",
      "source": [
        "df3 = df3.add_prefix('ORGANIZATION_')\n",
        "\n",
        "df3.columns"
      ],
      "metadata": {
        "colab": {
          "base_uri": "https://localhost:8080/"
        },
        "id": "cPfyLQZzu937",
        "outputId": "0ac153bd-8c21-46a1-83fe-32a39617b987"
      },
      "execution_count": 7,
      "outputs": [
        {
          "output_type": "execute_result",
          "data": {
            "text/plain": [
              "Index(['ORGANIZATION_Id', 'ORGANIZATION_NAME', 'ORGANIZATION_ADDRESS',\n",
              "       'ORGANIZATION_CITY', 'ORGANIZATION_STATE', 'ORGANIZATION_ZIP',\n",
              "       'ORGANIZATION_LAT', 'ORGANIZATION_LON'],\n",
              "      dtype='object')"
            ]
          },
          "metadata": {},
          "execution_count": 7
        }
      ]
    },
    {
      "cell_type": "code",
      "source": [
        "df4 = df4.add_prefix('PAYER_')\n",
        "\n",
        "df4.columns"
      ],
      "metadata": {
        "colab": {
          "base_uri": "https://localhost:8080/"
        },
        "id": "NRW2LGervC96",
        "outputId": "a07da89a-48e3-473c-9ea8-b64f542c592a"
      },
      "execution_count": 8,
      "outputs": [
        {
          "output_type": "execute_result",
          "data": {
            "text/plain": [
              "Index(['PAYER_Id', 'PAYER_NAME', 'PAYER_ADDRESS', 'PAYER_CITY',\n",
              "       'PAYER_STATE_HEADQUARTERED', 'PAYER_ZIP', 'PAYER_PHONE'],\n",
              "      dtype='object')"
            ]
          },
          "metadata": {},
          "execution_count": 8
        }
      ]
    },
    {
      "cell_type": "code",
      "source": [
        "df5 = df5.rename(columns={'PATIENT': 'PATIENT_Id'})\n",
        "\n",
        "exclude_col='PATIENT_Id'\n",
        "\n",
        "df5 = df5.rename(columns={col: f'procedure_{col}' for col in df5.columns if col != exclude_col})\n",
        "\n",
        "df5.columns"
      ],
      "metadata": {
        "colab": {
          "base_uri": "https://localhost:8080/"
        },
        "id": "QY55FbKTvKYI",
        "outputId": "39e68170-722e-4868-f838-eff68649c448"
      },
      "execution_count": 9,
      "outputs": [
        {
          "output_type": "execute_result",
          "data": {
            "text/plain": [
              "Index(['procedure_START', 'procedure_STOP', 'PATIENT_Id',\n",
              "       'procedure_ENCOUNTER', 'procedure_CODE', 'procedure_DESCRIPTION',\n",
              "       'procedure_BASE_COST', 'procedure_REASONCODE',\n",
              "       'procedure_REASONDESCRIPTION'],\n",
              "      dtype='object')"
            ]
          },
          "metadata": {},
          "execution_count": 9
        }
      ]
    },
    {
      "cell_type": "code",
      "source": [
        "df1 = pd.merge(df1, df2, on='PATIENT_Id',how='left')"
      ],
      "metadata": {
        "id": "l-GIHfTUp2mj"
      },
      "execution_count": 10,
      "outputs": []
    },
    {
      "cell_type": "code",
      "source": [
        "df1.columns"
      ],
      "metadata": {
        "colab": {
          "base_uri": "https://localhost:8080/"
        },
        "id": "1u-zjONTxtDu",
        "outputId": "c1e390fc-9811-4591-8249-d7b9408f169c"
      },
      "execution_count": null,
      "outputs": [
        {
          "output_type": "execute_result",
          "data": {
            "text/plain": [
              "Index(['PATIENT_Id', 'PATIENT_BIRTHDATE', 'PATIENT_DEATHDATE',\n",
              "       'PATIENT_PREFIX', 'PATIENT_FIRST', 'PATIENT_LAST', 'PATIENT_SUFFIX',\n",
              "       'PATIENT_MAIDEN', 'PATIENT_MARITAL', 'PATIENT_RACE',\n",
              "       'PATIENT_ETHNICITY', 'PATIENT_GENDER', 'PATIENT_BIRTHPLACE',\n",
              "       'PATIENT_ADDRESS', 'PATIENT_CITY', 'PATIENT_STATE', 'PATIENT_COUNTY',\n",
              "       'PATIENT_ZIP', 'PATIENT_LAT', 'PATIENT_LON', 'encounter_Id',\n",
              "       'encounter_START', 'encounter_STOP', 'encounter_ORGANIZATION',\n",
              "       'encounter_PAYER', 'encounter_ENCOUNTERCLASS', 'encounter_CODE',\n",
              "       'encounter_DESCRIPTION', 'encounter_BASE_ENCOUNTER_COST',\n",
              "       'encounter_TOTAL_CLAIM_COST', 'encounter_PAYER_COVERAGE',\n",
              "       'encounter_REASONCODE', 'encounter_REASONDESCRIPTION'],\n",
              "      dtype='object')"
            ]
          },
          "metadata": {},
          "execution_count": 69
        }
      ]
    },
    {
      "cell_type": "code",
      "source": [
        "df1 = df1.rename(columns={'encounter_ORGANIZATION': 'ORGANIZATION_Id'})"
      ],
      "metadata": {
        "id": "pHpMnEIsxwHT"
      },
      "execution_count": 11,
      "outputs": []
    },
    {
      "cell_type": "code",
      "source": [
        "df1 = pd.merge(df1, df3, on='ORGANIZATION_Id',how='left')"
      ],
      "metadata": {
        "id": "bitaLWIRq4Ud"
      },
      "execution_count": 12,
      "outputs": []
    },
    {
      "cell_type": "code",
      "source": [
        "df1 = pd.merge(df1, df5, on='PATIENT_Id',how='left')"
      ],
      "metadata": {
        "id": "cf79Cr-kq9PN"
      },
      "execution_count": 13,
      "outputs": []
    },
    {
      "cell_type": "code",
      "source": [
        "df1 = df1.rename(columns={'encounter_PAYER': 'PAYER_Id'})"
      ],
      "metadata": {
        "id": "8l_gV9gaybJE"
      },
      "execution_count": 14,
      "outputs": []
    },
    {
      "cell_type": "code",
      "source": [
        "df1 = pd.merge(df1, df4, on='PAYER_Id',how='left')"
      ],
      "metadata": {
        "id": "J5-14Dsmt83r"
      },
      "execution_count": 15,
      "outputs": []
    },
    {
      "cell_type": "code",
      "source": [
        "df1.columns"
      ],
      "metadata": {
        "colab": {
          "base_uri": "https://localhost:8080/"
        },
        "id": "HodYIDEbuIU5",
        "outputId": "9aeb2076-e872-4f77-cfd7-e4372fe173a1"
      },
      "execution_count": null,
      "outputs": [
        {
          "output_type": "execute_result",
          "data": {
            "text/plain": [
              "Index(['PATIENT_Id', 'PATIENT_BIRTHDATE', 'PATIENT_DEATHDATE',\n",
              "       'PATIENT_PREFIX', 'PATIENT_FIRST', 'PATIENT_LAST', 'PATIENT_SUFFIX',\n",
              "       'PATIENT_MAIDEN', 'PATIENT_MARITAL', 'PATIENT_RACE',\n",
              "       'PATIENT_ETHNICITY', 'PATIENT_GENDER', 'PATIENT_BIRTHPLACE',\n",
              "       'PATIENT_ADDRESS', 'PATIENT_CITY', 'PATIENT_STATE', 'PATIENT_COUNTY',\n",
              "       'PATIENT_ZIP', 'PATIENT_LAT', 'PATIENT_LON', 'encounter_Id',\n",
              "       'encounter_START', 'encounter_STOP', 'ORGANIZATION_Id', 'PAYER_Id',\n",
              "       'encounter_ENCOUNTERCLASS', 'encounter_CODE', 'encounter_DESCRIPTION',\n",
              "       'encounter_BASE_ENCOUNTER_COST', 'encounter_TOTAL_CLAIM_COST',\n",
              "       'encounter_PAYER_COVERAGE', 'encounter_REASONCODE',\n",
              "       'encounter_REASONDESCRIPTION', 'ORGANIZATION_NAME',\n",
              "       'ORGANIZATION_ADDRESS', 'ORGANIZATION_CITY', 'ORGANIZATION_STATE',\n",
              "       'ORGANIZATION_ZIP', 'ORGANIZATION_LAT', 'ORGANIZATION_LON',\n",
              "       'procedure_START', 'procedure_STOP', 'procedure_ENCOUNTER',\n",
              "       'procedure_CODE', 'procedure_DESCRIPTION', 'procedure_BASE_COST',\n",
              "       'procedure_REASONCODE', 'procedure_REASONDESCRIPTION', 'PAYER_NAME',\n",
              "       'PAYER_ADDRESS', 'PAYER_CITY', 'PAYER_STATE_HEADQUARTERED', 'PAYER_ZIP',\n",
              "       'PAYER_PHONE'],\n",
              "      dtype='object')"
            ]
          },
          "metadata": {},
          "execution_count": 95
        }
      ]
    },
    {
      "cell_type": "code",
      "source": [
        "missing_percentage = df1.isnull().mean() * 100\n",
        "\n",
        "print(missing_percentage)"
      ],
      "metadata": {
        "colab": {
          "base_uri": "https://localhost:8080/"
        },
        "id": "Z1XRUuK5zcJc",
        "outputId": "d02a100e-7c45-4734-81bb-61abadd35979"
      },
      "execution_count": 16,
      "outputs": [
        {
          "output_type": "stream",
          "name": "stdout",
          "text": [
            "PATIENT_Id                        0.000000\n",
            "PATIENT_BIRTHDATE                 0.000000\n",
            "PATIENT_DEATHDATE                82.697809\n",
            "PATIENT_PREFIX                    0.000000\n",
            "PATIENT_FIRST                     0.000000\n",
            "PATIENT_LAST                      0.000000\n",
            "PATIENT_SUFFIX                   99.580047\n",
            "PATIENT_MAIDEN                   43.742718\n",
            "PATIENT_MARITAL                   0.001001\n",
            "PATIENT_RACE                      0.000000\n",
            "PATIENT_ETHNICITY                 0.000000\n",
            "PATIENT_GENDER                    0.000000\n",
            "PATIENT_BIRTHPLACE                0.000000\n",
            "PATIENT_ADDRESS                   0.000000\n",
            "PATIENT_CITY                      0.000000\n",
            "PATIENT_STATE                     0.000000\n",
            "PATIENT_COUNTY                    0.000000\n",
            "PATIENT_ZIP                      15.286812\n",
            "PATIENT_LAT                       0.000000\n",
            "PATIENT_LON                       0.000000\n",
            "encounter_Id                      0.000000\n",
            "encounter_START                   0.000000\n",
            "encounter_STOP                    0.000000\n",
            "ORGANIZATION_Id                   0.000000\n",
            "PAYER_Id                          0.000000\n",
            "encounter_ENCOUNTERCLASS          0.000000\n",
            "encounter_CODE                    0.000000\n",
            "encounter_DESCRIPTION             0.000000\n",
            "encounter_BASE_ENCOUNTER_COST     0.000000\n",
            "encounter_TOTAL_CLAIM_COST        0.000000\n",
            "encounter_PAYER_COVERAGE          0.000000\n",
            "encounter_REASONCODE             91.380749\n",
            "encounter_REASONDESCRIPTION      91.380749\n",
            "ORGANIZATION_NAME                 0.000000\n",
            "ORGANIZATION_ADDRESS              0.000000\n",
            "ORGANIZATION_CITY                 0.000000\n",
            "ORGANIZATION_STATE                0.000000\n",
            "ORGANIZATION_ZIP                  0.000000\n",
            "ORGANIZATION_LAT                  0.000000\n",
            "ORGANIZATION_LON                  0.000000\n",
            "procedure_START                   0.019026\n",
            "procedure_STOP                    0.019026\n",
            "procedure_ENCOUNTER               0.019026\n",
            "procedure_CODE                    0.019026\n",
            "procedure_DESCRIPTION             0.019026\n",
            "procedure_BASE_COST               0.019026\n",
            "procedure_REASONCODE             89.563004\n",
            "procedure_REASONDESCRIPTION      89.563004\n",
            "PAYER_NAME                        0.000000\n",
            "PAYER_ADDRESS                    60.432386\n",
            "PAYER_CITY                       60.432386\n",
            "PAYER_STATE_HEADQUARTERED        60.432386\n",
            "PAYER_ZIP                        60.432386\n",
            "PAYER_PHONE                      60.432386\n",
            "dtype: float64\n"
          ]
        }
      ]
    },
    {
      "cell_type": "code",
      "source": [
        "threshold = 85  # Percentage\n",
        "\n",
        "df1 = df1.loc[:, missing_percentage <= threshold]"
      ],
      "metadata": {
        "id": "TYCrYENozwEu"
      },
      "execution_count": 17,
      "outputs": []
    },
    {
      "cell_type": "code",
      "source": [
        "df1.columns"
      ],
      "metadata": {
        "colab": {
          "base_uri": "https://localhost:8080/"
        },
        "id": "gs_ga0Nl0FN9",
        "outputId": "e4e191c8-fb99-4d19-fb76-1780075e2319"
      },
      "execution_count": null,
      "outputs": [
        {
          "output_type": "execute_result",
          "data": {
            "text/plain": [
              "Index(['PATIENT_Id', 'PATIENT_BIRTHDATE', 'PATIENT_DEATHDATE',\n",
              "       'PATIENT_PREFIX', 'PATIENT_FIRST', 'PATIENT_LAST', 'PATIENT_MAIDEN',\n",
              "       'PATIENT_MARITAL', 'PATIENT_RACE', 'PATIENT_ETHNICITY',\n",
              "       'PATIENT_GENDER', 'PATIENT_BIRTHPLACE', 'PATIENT_ADDRESS',\n",
              "       'PATIENT_CITY', 'PATIENT_STATE', 'PATIENT_COUNTY', 'PATIENT_ZIP',\n",
              "       'PATIENT_LAT', 'PATIENT_LON', 'encounter_Id', 'encounter_START',\n",
              "       'encounter_STOP', 'ORGANIZATION_Id', 'PAYER_Id',\n",
              "       'encounter_ENCOUNTERCLASS', 'encounter_CODE', 'encounter_DESCRIPTION',\n",
              "       'encounter_BASE_ENCOUNTER_COST', 'encounter_TOTAL_CLAIM_COST',\n",
              "       'encounter_PAYER_COVERAGE', 'ORGANIZATION_NAME', 'ORGANIZATION_ADDRESS',\n",
              "       'ORGANIZATION_CITY', 'ORGANIZATION_STATE', 'ORGANIZATION_ZIP',\n",
              "       'ORGANIZATION_LAT', 'ORGANIZATION_LON', 'procedure_START',\n",
              "       'procedure_STOP', 'procedure_ENCOUNTER', 'procedure_CODE',\n",
              "       'procedure_DESCRIPTION', 'procedure_BASE_COST', 'PAYER_NAME',\n",
              "       'PAYER_ADDRESS', 'PAYER_CITY', 'PAYER_STATE_HEADQUARTERED', 'PAYER_ZIP',\n",
              "       'PAYER_PHONE'],\n",
              "      dtype='object')"
            ]
          },
          "metadata": {},
          "execution_count": 99
        }
      ]
    },
    {
      "cell_type": "code",
      "source": [
        "#drop columns- PATIENT_MAIDEN,PATIENT_ZIP"
      ],
      "metadata": {
        "id": "s_R6lKxw0nYq"
      },
      "execution_count": null,
      "outputs": []
    },
    {
      "cell_type": "code",
      "source": [
        "l=['procedure_START','procedure_STOP','procedure_ENCOUNTER','procedure_CODE','procedure_DESCRIPTION','procedure_BASE_COST']\n",
        "\n",
        "for i in l:\n",
        "  most_frequent = df1[i].mode()[0]\n",
        "\n",
        "  df1[i].fillna(most_frequent, inplace=True)"
      ],
      "metadata": {
        "colab": {
          "base_uri": "https://localhost:8080/"
        },
        "id": "4ljlIsgY0V94",
        "outputId": "fbce8e75-aaae-4b81-dab2-d59ca92b1082"
      },
      "execution_count": 18,
      "outputs": [
        {
          "output_type": "stream",
          "name": "stderr",
          "text": [
            "<ipython-input-18-0441a9dc5608>:6: FutureWarning: A value is trying to be set on a copy of a DataFrame or Series through chained assignment using an inplace method.\n",
            "The behavior will change in pandas 3.0. This inplace method will never work because the intermediate object on which we are setting values always behaves as a copy.\n",
            "\n",
            "For example, when doing 'df[col].method(value, inplace=True)', try using 'df.method({col: value}, inplace=True)' or df[col] = df[col].method(value) instead, to perform the operation inplace on the original object.\n",
            "\n",
            "\n",
            "  df1[i].fillna(most_frequent, inplace=True)\n"
          ]
        }
      ]
    },
    {
      "cell_type": "code",
      "source": [
        "l=['PAYER_ADDRESS',\n",
        "'PAYER_CITY',\n",
        "'PAYER_STATE_HEADQUARTERED',\n",
        "'PAYER_ZIP',\n",
        "'PAYER_PHONE']\n",
        "\n",
        "df1=df1.drop(l,axis=1)"
      ],
      "metadata": {
        "id": "F39R_18p9r7T"
      },
      "execution_count": 19,
      "outputs": []
    },
    {
      "cell_type": "code",
      "source": [
        "pd.set_option('display.max_columns', None)\n",
        "df1.head(5)"
      ],
      "metadata": {
        "colab": {
          "base_uri": "https://localhost:8080/",
          "height": 487
        },
        "id": "Q0EcMYPm-uHZ",
        "outputId": "59140ef8-7439-45bd-e4fc-babe6cf67924"
      },
      "execution_count": null,
      "outputs": [
        {
          "output_type": "execute_result",
          "data": {
            "text/plain": [
              "                             PATIENT_Id PATIENT_BIRTHDATE PATIENT_DEATHDATE  \\\n",
              "0  5605b66b-e92d-c16c-1b83-b8bf7040d51f        1977-03-19               NaN   \n",
              "1  5605b66b-e92d-c16c-1b83-b8bf7040d51f        1977-03-19               NaN   \n",
              "2  5605b66b-e92d-c16c-1b83-b8bf7040d51f        1977-03-19               NaN   \n",
              "3  5605b66b-e92d-c16c-1b83-b8bf7040d51f        1977-03-19               NaN   \n",
              "4  5605b66b-e92d-c16c-1b83-b8bf7040d51f        1977-03-19               NaN   \n",
              "\n",
              "  PATIENT_PREFIX PATIENT_FIRST PATIENT_LAST PATIENT_MAIDEN PATIENT_MARITAL  \\\n",
              "0           Mrs.     Nikita578    Erdman779      Leannon79               M   \n",
              "1           Mrs.     Nikita578    Erdman779      Leannon79               M   \n",
              "2           Mrs.     Nikita578    Erdman779      Leannon79               M   \n",
              "3           Mrs.     Nikita578    Erdman779      Leannon79               M   \n",
              "4           Mrs.     Nikita578    Erdman779      Leannon79               M   \n",
              "\n",
              "  PATIENT_RACE PATIENT_ETHNICITY PATIENT_GENDER            PATIENT_BIRTHPLACE  \\\n",
              "0        white       nonhispanic              F  Wakefield  Massachusetts  US   \n",
              "1        white       nonhispanic              F  Wakefield  Massachusetts  US   \n",
              "2        white       nonhispanic              F  Wakefield  Massachusetts  US   \n",
              "3        white       nonhispanic              F  Wakefield  Massachusetts  US   \n",
              "4        white       nonhispanic              F  Wakefield  Massachusetts  US   \n",
              "\n",
              "              PATIENT_ADDRESS PATIENT_CITY  PATIENT_STATE  PATIENT_COUNTY  \\\n",
              "0  510 Little Station Unit 69       Quincy  Massachusetts  Norfolk County   \n",
              "1  510 Little Station Unit 69       Quincy  Massachusetts  Norfolk County   \n",
              "2  510 Little Station Unit 69       Quincy  Massachusetts  Norfolk County   \n",
              "3  510 Little Station Unit 69       Quincy  Massachusetts  Norfolk County   \n",
              "4  510 Little Station Unit 69       Quincy  Massachusetts  Norfolk County   \n",
              "\n",
              "   PATIENT_ZIP  PATIENT_LAT  PATIENT_LON  \\\n",
              "0       2186.0    42.290937   -70.975503   \n",
              "1       2186.0    42.290937   -70.975503   \n",
              "2       2186.0    42.290937   -70.975503   \n",
              "3       2186.0    42.290937   -70.975503   \n",
              "4       2186.0    42.290937   -70.975503   \n",
              "\n",
              "                           encounter_Id       encounter_START  \\\n",
              "0  eed7bcd4-a8b6-41a7-bce6-eee7e672a7dc  2013-03-02T22:07:23Z   \n",
              "1  eed7bcd4-a8b6-41a7-bce6-eee7e672a7dc  2013-03-02T22:07:23Z   \n",
              "2  eed7bcd4-a8b6-41a7-bce6-eee7e672a7dc  2013-03-02T22:07:23Z   \n",
              "3  eed7bcd4-a8b6-41a7-bce6-eee7e672a7dc  2013-03-02T22:07:23Z   \n",
              "4  eed7bcd4-a8b6-41a7-bce6-eee7e672a7dc  2013-03-02T22:07:23Z   \n",
              "\n",
              "         encounter_STOP                       ORGANIZATION_Id  \\\n",
              "0  2013-03-02T22:22:23Z  d78e84ec-30aa-3bba-a33a-f29a3a454662   \n",
              "1  2013-03-02T22:22:23Z  d78e84ec-30aa-3bba-a33a-f29a3a454662   \n",
              "2  2013-03-02T22:22:23Z  d78e84ec-30aa-3bba-a33a-f29a3a454662   \n",
              "3  2013-03-02T22:22:23Z  d78e84ec-30aa-3bba-a33a-f29a3a454662   \n",
              "4  2013-03-02T22:22:23Z  d78e84ec-30aa-3bba-a33a-f29a3a454662   \n",
              "\n",
              "                               PAYER_Id encounter_ENCOUNTERCLASS  \\\n",
              "0  047f6ec3-6215-35eb-9608-f9dda363a44c               ambulatory   \n",
              "1  047f6ec3-6215-35eb-9608-f9dda363a44c               ambulatory   \n",
              "2  047f6ec3-6215-35eb-9608-f9dda363a44c               ambulatory   \n",
              "3  047f6ec3-6215-35eb-9608-f9dda363a44c               ambulatory   \n",
              "4  047f6ec3-6215-35eb-9608-f9dda363a44c               ambulatory   \n",
              "\n",
              "   encounter_CODE   encounter_DESCRIPTION  encounter_BASE_ENCOUNTER_COST  \\\n",
              "0       424441002  Prenatal initial visit                         142.58   \n",
              "1       424441002  Prenatal initial visit                         142.58   \n",
              "2       424441002  Prenatal initial visit                         142.58   \n",
              "3       424441002  Prenatal initial visit                         142.58   \n",
              "4       424441002  Prenatal initial visit                         142.58   \n",
              "\n",
              "   encounter_TOTAL_CLAIM_COST  encounter_PAYER_COVERAGE  \\\n",
              "0                    17553.12                       0.0   \n",
              "1                    17553.12                       0.0   \n",
              "2                    17553.12                       0.0   \n",
              "3                    17553.12                       0.0   \n",
              "4                    17553.12                       0.0   \n",
              "\n",
              "                ORGANIZATION_NAME ORGANIZATION_ADDRESS ORGANIZATION_CITY  \\\n",
              "0  MASSACHUSETTS GENERAL HOSPITAL      55 FRUIT STREET            BOSTON   \n",
              "1  MASSACHUSETTS GENERAL HOSPITAL      55 FRUIT STREET            BOSTON   \n",
              "2  MASSACHUSETTS GENERAL HOSPITAL      55 FRUIT STREET            BOSTON   \n",
              "3  MASSACHUSETTS GENERAL HOSPITAL      55 FRUIT STREET            BOSTON   \n",
              "4  MASSACHUSETTS GENERAL HOSPITAL      55 FRUIT STREET            BOSTON   \n",
              "\n",
              "  ORGANIZATION_STATE  ORGANIZATION_ZIP  ORGANIZATION_LAT  ORGANIZATION_LON  \\\n",
              "0                 MA              2114         42.362813        -71.069187   \n",
              "1                 MA              2114         42.362813        -71.069187   \n",
              "2                 MA              2114         42.362813        -71.069187   \n",
              "3                 MA              2114         42.362813        -71.069187   \n",
              "4                 MA              2114         42.362813        -71.069187   \n",
              "\n",
              "        procedure_START        procedure_STOP  \\\n",
              "0  2013-03-02T22:07:23Z  2013-03-02T22:22:23Z   \n",
              "1  2013-03-02T22:07:23Z  2013-03-02T22:22:23Z   \n",
              "2  2013-03-12T22:07:23Z  2013-03-12T22:22:23Z   \n",
              "3  2013-03-12T22:07:23Z  2013-03-12T22:22:23Z   \n",
              "4  2013-03-22T22:07:23Z  2013-03-22T22:22:23Z   \n",
              "\n",
              "                    procedure_ENCOUNTER  procedure_CODE  \\\n",
              "0  eed7bcd4-a8b6-41a7-bce6-eee7e672a7dc     252160004.0   \n",
              "1  eed7bcd4-a8b6-41a7-bce6-eee7e672a7dc     169230002.0   \n",
              "2  d584671c-8796-c2c6-42c1-44197d20e35e     714812005.0   \n",
              "3  d584671c-8796-c2c6-42c1-44197d20e35e      10383002.0   \n",
              "4  8e33e2c9-2578-3cac-b326-5b90a83de2f8     386394001.0   \n",
              "\n",
              "                     procedure_DESCRIPTION  procedure_BASE_COST    PAYER_NAME  \n",
              "0                  Standard pregnancy test               4976.0  Cigna Health  \n",
              "1      Ultrasound scan for fetal viability              12434.0  Cigna Health  \n",
              "2         Induced termination of pregnancy               8480.0  Cigna Health  \n",
              "3  Counseling for termination of pregnancy                431.0  Cigna Health  \n",
              "4               Pregnancy termination care                648.0  Cigna Health  "
            ],
            "text/html": [
              "\n",
              "  <div id=\"df-bf0ff324-7321-4bfd-8ebf-f1123febc7a5\" class=\"colab-df-container\">\n",
              "    <div>\n",
              "<style scoped>\n",
              "    .dataframe tbody tr th:only-of-type {\n",
              "        vertical-align: middle;\n",
              "    }\n",
              "\n",
              "    .dataframe tbody tr th {\n",
              "        vertical-align: top;\n",
              "    }\n",
              "\n",
              "    .dataframe thead th {\n",
              "        text-align: right;\n",
              "    }\n",
              "</style>\n",
              "<table border=\"1\" class=\"dataframe\">\n",
              "  <thead>\n",
              "    <tr style=\"text-align: right;\">\n",
              "      <th></th>\n",
              "      <th>PATIENT_Id</th>\n",
              "      <th>PATIENT_BIRTHDATE</th>\n",
              "      <th>PATIENT_DEATHDATE</th>\n",
              "      <th>PATIENT_PREFIX</th>\n",
              "      <th>PATIENT_FIRST</th>\n",
              "      <th>PATIENT_LAST</th>\n",
              "      <th>PATIENT_MAIDEN</th>\n",
              "      <th>PATIENT_MARITAL</th>\n",
              "      <th>PATIENT_RACE</th>\n",
              "      <th>PATIENT_ETHNICITY</th>\n",
              "      <th>PATIENT_GENDER</th>\n",
              "      <th>PATIENT_BIRTHPLACE</th>\n",
              "      <th>PATIENT_ADDRESS</th>\n",
              "      <th>PATIENT_CITY</th>\n",
              "      <th>PATIENT_STATE</th>\n",
              "      <th>PATIENT_COUNTY</th>\n",
              "      <th>PATIENT_ZIP</th>\n",
              "      <th>PATIENT_LAT</th>\n",
              "      <th>PATIENT_LON</th>\n",
              "      <th>encounter_Id</th>\n",
              "      <th>encounter_START</th>\n",
              "      <th>encounter_STOP</th>\n",
              "      <th>ORGANIZATION_Id</th>\n",
              "      <th>PAYER_Id</th>\n",
              "      <th>encounter_ENCOUNTERCLASS</th>\n",
              "      <th>encounter_CODE</th>\n",
              "      <th>encounter_DESCRIPTION</th>\n",
              "      <th>encounter_BASE_ENCOUNTER_COST</th>\n",
              "      <th>encounter_TOTAL_CLAIM_COST</th>\n",
              "      <th>encounter_PAYER_COVERAGE</th>\n",
              "      <th>ORGANIZATION_NAME</th>\n",
              "      <th>ORGANIZATION_ADDRESS</th>\n",
              "      <th>ORGANIZATION_CITY</th>\n",
              "      <th>ORGANIZATION_STATE</th>\n",
              "      <th>ORGANIZATION_ZIP</th>\n",
              "      <th>ORGANIZATION_LAT</th>\n",
              "      <th>ORGANIZATION_LON</th>\n",
              "      <th>procedure_START</th>\n",
              "      <th>procedure_STOP</th>\n",
              "      <th>procedure_ENCOUNTER</th>\n",
              "      <th>procedure_CODE</th>\n",
              "      <th>procedure_DESCRIPTION</th>\n",
              "      <th>procedure_BASE_COST</th>\n",
              "      <th>PAYER_NAME</th>\n",
              "    </tr>\n",
              "  </thead>\n",
              "  <tbody>\n",
              "    <tr>\n",
              "      <th>0</th>\n",
              "      <td>5605b66b-e92d-c16c-1b83-b8bf7040d51f</td>\n",
              "      <td>1977-03-19</td>\n",
              "      <td>NaN</td>\n",
              "      <td>Mrs.</td>\n",
              "      <td>Nikita578</td>\n",
              "      <td>Erdman779</td>\n",
              "      <td>Leannon79</td>\n",
              "      <td>M</td>\n",
              "      <td>white</td>\n",
              "      <td>nonhispanic</td>\n",
              "      <td>F</td>\n",
              "      <td>Wakefield  Massachusetts  US</td>\n",
              "      <td>510 Little Station Unit 69</td>\n",
              "      <td>Quincy</td>\n",
              "      <td>Massachusetts</td>\n",
              "      <td>Norfolk County</td>\n",
              "      <td>2186.0</td>\n",
              "      <td>42.290937</td>\n",
              "      <td>-70.975503</td>\n",
              "      <td>eed7bcd4-a8b6-41a7-bce6-eee7e672a7dc</td>\n",
              "      <td>2013-03-02T22:07:23Z</td>\n",
              "      <td>2013-03-02T22:22:23Z</td>\n",
              "      <td>d78e84ec-30aa-3bba-a33a-f29a3a454662</td>\n",
              "      <td>047f6ec3-6215-35eb-9608-f9dda363a44c</td>\n",
              "      <td>ambulatory</td>\n",
              "      <td>424441002</td>\n",
              "      <td>Prenatal initial visit</td>\n",
              "      <td>142.58</td>\n",
              "      <td>17553.12</td>\n",
              "      <td>0.0</td>\n",
              "      <td>MASSACHUSETTS GENERAL HOSPITAL</td>\n",
              "      <td>55 FRUIT STREET</td>\n",
              "      <td>BOSTON</td>\n",
              "      <td>MA</td>\n",
              "      <td>2114</td>\n",
              "      <td>42.362813</td>\n",
              "      <td>-71.069187</td>\n",
              "      <td>2013-03-02T22:07:23Z</td>\n",
              "      <td>2013-03-02T22:22:23Z</td>\n",
              "      <td>eed7bcd4-a8b6-41a7-bce6-eee7e672a7dc</td>\n",
              "      <td>252160004.0</td>\n",
              "      <td>Standard pregnancy test</td>\n",
              "      <td>4976.0</td>\n",
              "      <td>Cigna Health</td>\n",
              "    </tr>\n",
              "    <tr>\n",
              "      <th>1</th>\n",
              "      <td>5605b66b-e92d-c16c-1b83-b8bf7040d51f</td>\n",
              "      <td>1977-03-19</td>\n",
              "      <td>NaN</td>\n",
              "      <td>Mrs.</td>\n",
              "      <td>Nikita578</td>\n",
              "      <td>Erdman779</td>\n",
              "      <td>Leannon79</td>\n",
              "      <td>M</td>\n",
              "      <td>white</td>\n",
              "      <td>nonhispanic</td>\n",
              "      <td>F</td>\n",
              "      <td>Wakefield  Massachusetts  US</td>\n",
              "      <td>510 Little Station Unit 69</td>\n",
              "      <td>Quincy</td>\n",
              "      <td>Massachusetts</td>\n",
              "      <td>Norfolk County</td>\n",
              "      <td>2186.0</td>\n",
              "      <td>42.290937</td>\n",
              "      <td>-70.975503</td>\n",
              "      <td>eed7bcd4-a8b6-41a7-bce6-eee7e672a7dc</td>\n",
              "      <td>2013-03-02T22:07:23Z</td>\n",
              "      <td>2013-03-02T22:22:23Z</td>\n",
              "      <td>d78e84ec-30aa-3bba-a33a-f29a3a454662</td>\n",
              "      <td>047f6ec3-6215-35eb-9608-f9dda363a44c</td>\n",
              "      <td>ambulatory</td>\n",
              "      <td>424441002</td>\n",
              "      <td>Prenatal initial visit</td>\n",
              "      <td>142.58</td>\n",
              "      <td>17553.12</td>\n",
              "      <td>0.0</td>\n",
              "      <td>MASSACHUSETTS GENERAL HOSPITAL</td>\n",
              "      <td>55 FRUIT STREET</td>\n",
              "      <td>BOSTON</td>\n",
              "      <td>MA</td>\n",
              "      <td>2114</td>\n",
              "      <td>42.362813</td>\n",
              "      <td>-71.069187</td>\n",
              "      <td>2013-03-02T22:07:23Z</td>\n",
              "      <td>2013-03-02T22:22:23Z</td>\n",
              "      <td>eed7bcd4-a8b6-41a7-bce6-eee7e672a7dc</td>\n",
              "      <td>169230002.0</td>\n",
              "      <td>Ultrasound scan for fetal viability</td>\n",
              "      <td>12434.0</td>\n",
              "      <td>Cigna Health</td>\n",
              "    </tr>\n",
              "    <tr>\n",
              "      <th>2</th>\n",
              "      <td>5605b66b-e92d-c16c-1b83-b8bf7040d51f</td>\n",
              "      <td>1977-03-19</td>\n",
              "      <td>NaN</td>\n",
              "      <td>Mrs.</td>\n",
              "      <td>Nikita578</td>\n",
              "      <td>Erdman779</td>\n",
              "      <td>Leannon79</td>\n",
              "      <td>M</td>\n",
              "      <td>white</td>\n",
              "      <td>nonhispanic</td>\n",
              "      <td>F</td>\n",
              "      <td>Wakefield  Massachusetts  US</td>\n",
              "      <td>510 Little Station Unit 69</td>\n",
              "      <td>Quincy</td>\n",
              "      <td>Massachusetts</td>\n",
              "      <td>Norfolk County</td>\n",
              "      <td>2186.0</td>\n",
              "      <td>42.290937</td>\n",
              "      <td>-70.975503</td>\n",
              "      <td>eed7bcd4-a8b6-41a7-bce6-eee7e672a7dc</td>\n",
              "      <td>2013-03-02T22:07:23Z</td>\n",
              "      <td>2013-03-02T22:22:23Z</td>\n",
              "      <td>d78e84ec-30aa-3bba-a33a-f29a3a454662</td>\n",
              "      <td>047f6ec3-6215-35eb-9608-f9dda363a44c</td>\n",
              "      <td>ambulatory</td>\n",
              "      <td>424441002</td>\n",
              "      <td>Prenatal initial visit</td>\n",
              "      <td>142.58</td>\n",
              "      <td>17553.12</td>\n",
              "      <td>0.0</td>\n",
              "      <td>MASSACHUSETTS GENERAL HOSPITAL</td>\n",
              "      <td>55 FRUIT STREET</td>\n",
              "      <td>BOSTON</td>\n",
              "      <td>MA</td>\n",
              "      <td>2114</td>\n",
              "      <td>42.362813</td>\n",
              "      <td>-71.069187</td>\n",
              "      <td>2013-03-12T22:07:23Z</td>\n",
              "      <td>2013-03-12T22:22:23Z</td>\n",
              "      <td>d584671c-8796-c2c6-42c1-44197d20e35e</td>\n",
              "      <td>714812005.0</td>\n",
              "      <td>Induced termination of pregnancy</td>\n",
              "      <td>8480.0</td>\n",
              "      <td>Cigna Health</td>\n",
              "    </tr>\n",
              "    <tr>\n",
              "      <th>3</th>\n",
              "      <td>5605b66b-e92d-c16c-1b83-b8bf7040d51f</td>\n",
              "      <td>1977-03-19</td>\n",
              "      <td>NaN</td>\n",
              "      <td>Mrs.</td>\n",
              "      <td>Nikita578</td>\n",
              "      <td>Erdman779</td>\n",
              "      <td>Leannon79</td>\n",
              "      <td>M</td>\n",
              "      <td>white</td>\n",
              "      <td>nonhispanic</td>\n",
              "      <td>F</td>\n",
              "      <td>Wakefield  Massachusetts  US</td>\n",
              "      <td>510 Little Station Unit 69</td>\n",
              "      <td>Quincy</td>\n",
              "      <td>Massachusetts</td>\n",
              "      <td>Norfolk County</td>\n",
              "      <td>2186.0</td>\n",
              "      <td>42.290937</td>\n",
              "      <td>-70.975503</td>\n",
              "      <td>eed7bcd4-a8b6-41a7-bce6-eee7e672a7dc</td>\n",
              "      <td>2013-03-02T22:07:23Z</td>\n",
              "      <td>2013-03-02T22:22:23Z</td>\n",
              "      <td>d78e84ec-30aa-3bba-a33a-f29a3a454662</td>\n",
              "      <td>047f6ec3-6215-35eb-9608-f9dda363a44c</td>\n",
              "      <td>ambulatory</td>\n",
              "      <td>424441002</td>\n",
              "      <td>Prenatal initial visit</td>\n",
              "      <td>142.58</td>\n",
              "      <td>17553.12</td>\n",
              "      <td>0.0</td>\n",
              "      <td>MASSACHUSETTS GENERAL HOSPITAL</td>\n",
              "      <td>55 FRUIT STREET</td>\n",
              "      <td>BOSTON</td>\n",
              "      <td>MA</td>\n",
              "      <td>2114</td>\n",
              "      <td>42.362813</td>\n",
              "      <td>-71.069187</td>\n",
              "      <td>2013-03-12T22:07:23Z</td>\n",
              "      <td>2013-03-12T22:22:23Z</td>\n",
              "      <td>d584671c-8796-c2c6-42c1-44197d20e35e</td>\n",
              "      <td>10383002.0</td>\n",
              "      <td>Counseling for termination of pregnancy</td>\n",
              "      <td>431.0</td>\n",
              "      <td>Cigna Health</td>\n",
              "    </tr>\n",
              "    <tr>\n",
              "      <th>4</th>\n",
              "      <td>5605b66b-e92d-c16c-1b83-b8bf7040d51f</td>\n",
              "      <td>1977-03-19</td>\n",
              "      <td>NaN</td>\n",
              "      <td>Mrs.</td>\n",
              "      <td>Nikita578</td>\n",
              "      <td>Erdman779</td>\n",
              "      <td>Leannon79</td>\n",
              "      <td>M</td>\n",
              "      <td>white</td>\n",
              "      <td>nonhispanic</td>\n",
              "      <td>F</td>\n",
              "      <td>Wakefield  Massachusetts  US</td>\n",
              "      <td>510 Little Station Unit 69</td>\n",
              "      <td>Quincy</td>\n",
              "      <td>Massachusetts</td>\n",
              "      <td>Norfolk County</td>\n",
              "      <td>2186.0</td>\n",
              "      <td>42.290937</td>\n",
              "      <td>-70.975503</td>\n",
              "      <td>eed7bcd4-a8b6-41a7-bce6-eee7e672a7dc</td>\n",
              "      <td>2013-03-02T22:07:23Z</td>\n",
              "      <td>2013-03-02T22:22:23Z</td>\n",
              "      <td>d78e84ec-30aa-3bba-a33a-f29a3a454662</td>\n",
              "      <td>047f6ec3-6215-35eb-9608-f9dda363a44c</td>\n",
              "      <td>ambulatory</td>\n",
              "      <td>424441002</td>\n",
              "      <td>Prenatal initial visit</td>\n",
              "      <td>142.58</td>\n",
              "      <td>17553.12</td>\n",
              "      <td>0.0</td>\n",
              "      <td>MASSACHUSETTS GENERAL HOSPITAL</td>\n",
              "      <td>55 FRUIT STREET</td>\n",
              "      <td>BOSTON</td>\n",
              "      <td>MA</td>\n",
              "      <td>2114</td>\n",
              "      <td>42.362813</td>\n",
              "      <td>-71.069187</td>\n",
              "      <td>2013-03-22T22:07:23Z</td>\n",
              "      <td>2013-03-22T22:22:23Z</td>\n",
              "      <td>8e33e2c9-2578-3cac-b326-5b90a83de2f8</td>\n",
              "      <td>386394001.0</td>\n",
              "      <td>Pregnancy termination care</td>\n",
              "      <td>648.0</td>\n",
              "      <td>Cigna Health</td>\n",
              "    </tr>\n",
              "  </tbody>\n",
              "</table>\n",
              "</div>\n",
              "    <div class=\"colab-df-buttons\">\n",
              "\n",
              "  <div class=\"colab-df-container\">\n",
              "    <button class=\"colab-df-convert\" onclick=\"convertToInteractive('df-bf0ff324-7321-4bfd-8ebf-f1123febc7a5')\"\n",
              "            title=\"Convert this dataframe to an interactive table.\"\n",
              "            style=\"display:none;\">\n",
              "\n",
              "  <svg xmlns=\"http://www.w3.org/2000/svg\" height=\"24px\" viewBox=\"0 -960 960 960\">\n",
              "    <path d=\"M120-120v-720h720v720H120Zm60-500h600v-160H180v160Zm220 220h160v-160H400v160Zm0 220h160v-160H400v160ZM180-400h160v-160H180v160Zm440 0h160v-160H620v160ZM180-180h160v-160H180v160Zm440 0h160v-160H620v160Z\"/>\n",
              "  </svg>\n",
              "    </button>\n",
              "\n",
              "  <style>\n",
              "    .colab-df-container {\n",
              "      display:flex;\n",
              "      gap: 12px;\n",
              "    }\n",
              "\n",
              "    .colab-df-convert {\n",
              "      background-color: #E8F0FE;\n",
              "      border: none;\n",
              "      border-radius: 50%;\n",
              "      cursor: pointer;\n",
              "      display: none;\n",
              "      fill: #1967D2;\n",
              "      height: 32px;\n",
              "      padding: 0 0 0 0;\n",
              "      width: 32px;\n",
              "    }\n",
              "\n",
              "    .colab-df-convert:hover {\n",
              "      background-color: #E2EBFA;\n",
              "      box-shadow: 0px 1px 2px rgba(60, 64, 67, 0.3), 0px 1px 3px 1px rgba(60, 64, 67, 0.15);\n",
              "      fill: #174EA6;\n",
              "    }\n",
              "\n",
              "    .colab-df-buttons div {\n",
              "      margin-bottom: 4px;\n",
              "    }\n",
              "\n",
              "    [theme=dark] .colab-df-convert {\n",
              "      background-color: #3B4455;\n",
              "      fill: #D2E3FC;\n",
              "    }\n",
              "\n",
              "    [theme=dark] .colab-df-convert:hover {\n",
              "      background-color: #434B5C;\n",
              "      box-shadow: 0px 1px 3px 1px rgba(0, 0, 0, 0.15);\n",
              "      filter: drop-shadow(0px 1px 2px rgba(0, 0, 0, 0.3));\n",
              "      fill: #FFFFFF;\n",
              "    }\n",
              "  </style>\n",
              "\n",
              "    <script>\n",
              "      const buttonEl =\n",
              "        document.querySelector('#df-bf0ff324-7321-4bfd-8ebf-f1123febc7a5 button.colab-df-convert');\n",
              "      buttonEl.style.display =\n",
              "        google.colab.kernel.accessAllowed ? 'block' : 'none';\n",
              "\n",
              "      async function convertToInteractive(key) {\n",
              "        const element = document.querySelector('#df-bf0ff324-7321-4bfd-8ebf-f1123febc7a5');\n",
              "        const dataTable =\n",
              "          await google.colab.kernel.invokeFunction('convertToInteractive',\n",
              "                                                    [key], {});\n",
              "        if (!dataTable) return;\n",
              "\n",
              "        const docLinkHtml = 'Like what you see? Visit the ' +\n",
              "          '<a target=\"_blank\" href=https://colab.research.google.com/notebooks/data_table.ipynb>data table notebook</a>'\n",
              "          + ' to learn more about interactive tables.';\n",
              "        element.innerHTML = '';\n",
              "        dataTable['output_type'] = 'display_data';\n",
              "        await google.colab.output.renderOutput(dataTable, element);\n",
              "        const docLink = document.createElement('div');\n",
              "        docLink.innerHTML = docLinkHtml;\n",
              "        element.appendChild(docLink);\n",
              "      }\n",
              "    </script>\n",
              "  </div>\n",
              "\n",
              "\n",
              "<div id=\"df-dc5aeb74-a855-4d51-8cb0-d417b920132f\">\n",
              "  <button class=\"colab-df-quickchart\" onclick=\"quickchart('df-dc5aeb74-a855-4d51-8cb0-d417b920132f')\"\n",
              "            title=\"Suggest charts\"\n",
              "            style=\"display:none;\">\n",
              "\n",
              "<svg xmlns=\"http://www.w3.org/2000/svg\" height=\"24px\"viewBox=\"0 0 24 24\"\n",
              "     width=\"24px\">\n",
              "    <g>\n",
              "        <path d=\"M19 3H5c-1.1 0-2 .9-2 2v14c0 1.1.9 2 2 2h14c1.1 0 2-.9 2-2V5c0-1.1-.9-2-2-2zM9 17H7v-7h2v7zm4 0h-2V7h2v10zm4 0h-2v-4h2v4z\"/>\n",
              "    </g>\n",
              "</svg>\n",
              "  </button>\n",
              "\n",
              "<style>\n",
              "  .colab-df-quickchart {\n",
              "      --bg-color: #E8F0FE;\n",
              "      --fill-color: #1967D2;\n",
              "      --hover-bg-color: #E2EBFA;\n",
              "      --hover-fill-color: #174EA6;\n",
              "      --disabled-fill-color: #AAA;\n",
              "      --disabled-bg-color: #DDD;\n",
              "  }\n",
              "\n",
              "  [theme=dark] .colab-df-quickchart {\n",
              "      --bg-color: #3B4455;\n",
              "      --fill-color: #D2E3FC;\n",
              "      --hover-bg-color: #434B5C;\n",
              "      --hover-fill-color: #FFFFFF;\n",
              "      --disabled-bg-color: #3B4455;\n",
              "      --disabled-fill-color: #666;\n",
              "  }\n",
              "\n",
              "  .colab-df-quickchart {\n",
              "    background-color: var(--bg-color);\n",
              "    border: none;\n",
              "    border-radius: 50%;\n",
              "    cursor: pointer;\n",
              "    display: none;\n",
              "    fill: var(--fill-color);\n",
              "    height: 32px;\n",
              "    padding: 0;\n",
              "    width: 32px;\n",
              "  }\n",
              "\n",
              "  .colab-df-quickchart:hover {\n",
              "    background-color: var(--hover-bg-color);\n",
              "    box-shadow: 0 1px 2px rgba(60, 64, 67, 0.3), 0 1px 3px 1px rgba(60, 64, 67, 0.15);\n",
              "    fill: var(--button-hover-fill-color);\n",
              "  }\n",
              "\n",
              "  .colab-df-quickchart-complete:disabled,\n",
              "  .colab-df-quickchart-complete:disabled:hover {\n",
              "    background-color: var(--disabled-bg-color);\n",
              "    fill: var(--disabled-fill-color);\n",
              "    box-shadow: none;\n",
              "  }\n",
              "\n",
              "  .colab-df-spinner {\n",
              "    border: 2px solid var(--fill-color);\n",
              "    border-color: transparent;\n",
              "    border-bottom-color: var(--fill-color);\n",
              "    animation:\n",
              "      spin 1s steps(1) infinite;\n",
              "  }\n",
              "\n",
              "  @keyframes spin {\n",
              "    0% {\n",
              "      border-color: transparent;\n",
              "      border-bottom-color: var(--fill-color);\n",
              "      border-left-color: var(--fill-color);\n",
              "    }\n",
              "    20% {\n",
              "      border-color: transparent;\n",
              "      border-left-color: var(--fill-color);\n",
              "      border-top-color: var(--fill-color);\n",
              "    }\n",
              "    30% {\n",
              "      border-color: transparent;\n",
              "      border-left-color: var(--fill-color);\n",
              "      border-top-color: var(--fill-color);\n",
              "      border-right-color: var(--fill-color);\n",
              "    }\n",
              "    40% {\n",
              "      border-color: transparent;\n",
              "      border-right-color: var(--fill-color);\n",
              "      border-top-color: var(--fill-color);\n",
              "    }\n",
              "    60% {\n",
              "      border-color: transparent;\n",
              "      border-right-color: var(--fill-color);\n",
              "    }\n",
              "    80% {\n",
              "      border-color: transparent;\n",
              "      border-right-color: var(--fill-color);\n",
              "      border-bottom-color: var(--fill-color);\n",
              "    }\n",
              "    90% {\n",
              "      border-color: transparent;\n",
              "      border-bottom-color: var(--fill-color);\n",
              "    }\n",
              "  }\n",
              "</style>\n",
              "\n",
              "  <script>\n",
              "    async function quickchart(key) {\n",
              "      const quickchartButtonEl =\n",
              "        document.querySelector('#' + key + ' button');\n",
              "      quickchartButtonEl.disabled = true;  // To prevent multiple clicks.\n",
              "      quickchartButtonEl.classList.add('colab-df-spinner');\n",
              "      try {\n",
              "        const charts = await google.colab.kernel.invokeFunction(\n",
              "            'suggestCharts', [key], {});\n",
              "      } catch (error) {\n",
              "        console.error('Error during call to suggestCharts:', error);\n",
              "      }\n",
              "      quickchartButtonEl.classList.remove('colab-df-spinner');\n",
              "      quickchartButtonEl.classList.add('colab-df-quickchart-complete');\n",
              "    }\n",
              "    (() => {\n",
              "      let quickchartButtonEl =\n",
              "        document.querySelector('#df-dc5aeb74-a855-4d51-8cb0-d417b920132f button');\n",
              "      quickchartButtonEl.style.display =\n",
              "        google.colab.kernel.accessAllowed ? 'block' : 'none';\n",
              "    })();\n",
              "  </script>\n",
              "</div>\n",
              "\n",
              "    </div>\n",
              "  </div>\n"
            ],
            "application/vnd.google.colaboratory.intrinsic+json": {
              "type": "dataframe",
              "variable_name": "df1"
            }
          },
          "metadata": {},
          "execution_count": 105
        }
      ]
    },
    {
      "cell_type": "code",
      "source": [
        "l=[\"PATIENT_Id\",\"PATIENT_BIRTHDATE\",\"PATIENT_DEATHDATE\",\"PATIENT_FIRST\",\"PATIENT_LAST\",\"PATIENT_MAIDEN\",\"PATIENT_BIRTHPLACE\",\"PATIENT_ADDRESS\",\"PATIENT_CITY\",\"PATIENT_STATE\",\"PATIENT_COUNTY\",\"PATIENT_ZIP\",\"PATIENT_LAT\",\"PATIENT_LON\",\"encounter_Id\",\"encounter_START\",\"encounter_STOP\",\"ORGANIZATION_Id\",\"PAYER_Id\",\"encounter_CODE\",\"encounter_DESCRIPTION\",\"ORGANIZATION_NAME\",\"ORGANIZATION_ADDRESS\",\"ORGANIZATION_CITY\",\"ORGANIZATION_STATE\",\"ORGANIZATION_ZIP\",\"ORGANIZATION_LAT\",\"ORGANIZATION_LON\",\"procedure_START\",\"procedure_STOP\",\"procedure_ENCOUNTER\"]\n",
        "\n",
        "df1=df1.drop(l,axis=1)"
      ],
      "metadata": {
        "id": "Q6VQFJ57BJvH"
      },
      "execution_count": 20,
      "outputs": []
    },
    {
      "cell_type": "code",
      "source": [
        "pd.set_option('display.max_columns', None)\n",
        "df1.head(5)"
      ],
      "metadata": {
        "colab": {
          "base_uri": "https://localhost:8080/",
          "height": 313
        },
        "id": "lkz7S_WuC2yL",
        "outputId": "93a4f124-ab13-46d7-d506-1885ec674c09"
      },
      "execution_count": 21,
      "outputs": [
        {
          "output_type": "execute_result",
          "data": {
            "text/plain": [
              "  PATIENT_PREFIX PATIENT_MARITAL PATIENT_RACE PATIENT_ETHNICITY  \\\n",
              "0           Mrs.               M        white       nonhispanic   \n",
              "1           Mrs.               M        white       nonhispanic   \n",
              "2           Mrs.               M        white       nonhispanic   \n",
              "3           Mrs.               M        white       nonhispanic   \n",
              "4           Mrs.               M        white       nonhispanic   \n",
              "\n",
              "  PATIENT_GENDER encounter_ENCOUNTERCLASS  encounter_BASE_ENCOUNTER_COST  \\\n",
              "0              F               ambulatory                         142.58   \n",
              "1              F               ambulatory                         142.58   \n",
              "2              F               ambulatory                         142.58   \n",
              "3              F               ambulatory                         142.58   \n",
              "4              F               ambulatory                         142.58   \n",
              "\n",
              "   encounter_TOTAL_CLAIM_COST  encounter_PAYER_COVERAGE  procedure_CODE  \\\n",
              "0                    17553.12                       0.0     252160004.0   \n",
              "1                    17553.12                       0.0     169230002.0   \n",
              "2                    17553.12                       0.0     714812005.0   \n",
              "3                    17553.12                       0.0      10383002.0   \n",
              "4                    17553.12                       0.0     386394001.0   \n",
              "\n",
              "                     procedure_DESCRIPTION  procedure_BASE_COST    PAYER_NAME  \n",
              "0                  Standard pregnancy test               4976.0  Cigna Health  \n",
              "1      Ultrasound scan for fetal viability              12434.0  Cigna Health  \n",
              "2         Induced termination of pregnancy               8480.0  Cigna Health  \n",
              "3  Counseling for termination of pregnancy                431.0  Cigna Health  \n",
              "4               Pregnancy termination care                648.0  Cigna Health  "
            ],
            "text/html": [
              "\n",
              "  <div id=\"df-8c3ca2cb-c0fe-48ca-8cbc-61a55853f752\" class=\"colab-df-container\">\n",
              "    <div>\n",
              "<style scoped>\n",
              "    .dataframe tbody tr th:only-of-type {\n",
              "        vertical-align: middle;\n",
              "    }\n",
              "\n",
              "    .dataframe tbody tr th {\n",
              "        vertical-align: top;\n",
              "    }\n",
              "\n",
              "    .dataframe thead th {\n",
              "        text-align: right;\n",
              "    }\n",
              "</style>\n",
              "<table border=\"1\" class=\"dataframe\">\n",
              "  <thead>\n",
              "    <tr style=\"text-align: right;\">\n",
              "      <th></th>\n",
              "      <th>PATIENT_PREFIX</th>\n",
              "      <th>PATIENT_MARITAL</th>\n",
              "      <th>PATIENT_RACE</th>\n",
              "      <th>PATIENT_ETHNICITY</th>\n",
              "      <th>PATIENT_GENDER</th>\n",
              "      <th>encounter_ENCOUNTERCLASS</th>\n",
              "      <th>encounter_BASE_ENCOUNTER_COST</th>\n",
              "      <th>encounter_TOTAL_CLAIM_COST</th>\n",
              "      <th>encounter_PAYER_COVERAGE</th>\n",
              "      <th>procedure_CODE</th>\n",
              "      <th>procedure_DESCRIPTION</th>\n",
              "      <th>procedure_BASE_COST</th>\n",
              "      <th>PAYER_NAME</th>\n",
              "    </tr>\n",
              "  </thead>\n",
              "  <tbody>\n",
              "    <tr>\n",
              "      <th>0</th>\n",
              "      <td>Mrs.</td>\n",
              "      <td>M</td>\n",
              "      <td>white</td>\n",
              "      <td>nonhispanic</td>\n",
              "      <td>F</td>\n",
              "      <td>ambulatory</td>\n",
              "      <td>142.58</td>\n",
              "      <td>17553.12</td>\n",
              "      <td>0.0</td>\n",
              "      <td>252160004.0</td>\n",
              "      <td>Standard pregnancy test</td>\n",
              "      <td>4976.0</td>\n",
              "      <td>Cigna Health</td>\n",
              "    </tr>\n",
              "    <tr>\n",
              "      <th>1</th>\n",
              "      <td>Mrs.</td>\n",
              "      <td>M</td>\n",
              "      <td>white</td>\n",
              "      <td>nonhispanic</td>\n",
              "      <td>F</td>\n",
              "      <td>ambulatory</td>\n",
              "      <td>142.58</td>\n",
              "      <td>17553.12</td>\n",
              "      <td>0.0</td>\n",
              "      <td>169230002.0</td>\n",
              "      <td>Ultrasound scan for fetal viability</td>\n",
              "      <td>12434.0</td>\n",
              "      <td>Cigna Health</td>\n",
              "    </tr>\n",
              "    <tr>\n",
              "      <th>2</th>\n",
              "      <td>Mrs.</td>\n",
              "      <td>M</td>\n",
              "      <td>white</td>\n",
              "      <td>nonhispanic</td>\n",
              "      <td>F</td>\n",
              "      <td>ambulatory</td>\n",
              "      <td>142.58</td>\n",
              "      <td>17553.12</td>\n",
              "      <td>0.0</td>\n",
              "      <td>714812005.0</td>\n",
              "      <td>Induced termination of pregnancy</td>\n",
              "      <td>8480.0</td>\n",
              "      <td>Cigna Health</td>\n",
              "    </tr>\n",
              "    <tr>\n",
              "      <th>3</th>\n",
              "      <td>Mrs.</td>\n",
              "      <td>M</td>\n",
              "      <td>white</td>\n",
              "      <td>nonhispanic</td>\n",
              "      <td>F</td>\n",
              "      <td>ambulatory</td>\n",
              "      <td>142.58</td>\n",
              "      <td>17553.12</td>\n",
              "      <td>0.0</td>\n",
              "      <td>10383002.0</td>\n",
              "      <td>Counseling for termination of pregnancy</td>\n",
              "      <td>431.0</td>\n",
              "      <td>Cigna Health</td>\n",
              "    </tr>\n",
              "    <tr>\n",
              "      <th>4</th>\n",
              "      <td>Mrs.</td>\n",
              "      <td>M</td>\n",
              "      <td>white</td>\n",
              "      <td>nonhispanic</td>\n",
              "      <td>F</td>\n",
              "      <td>ambulatory</td>\n",
              "      <td>142.58</td>\n",
              "      <td>17553.12</td>\n",
              "      <td>0.0</td>\n",
              "      <td>386394001.0</td>\n",
              "      <td>Pregnancy termination care</td>\n",
              "      <td>648.0</td>\n",
              "      <td>Cigna Health</td>\n",
              "    </tr>\n",
              "  </tbody>\n",
              "</table>\n",
              "</div>\n",
              "    <div class=\"colab-df-buttons\">\n",
              "\n",
              "  <div class=\"colab-df-container\">\n",
              "    <button class=\"colab-df-convert\" onclick=\"convertToInteractive('df-8c3ca2cb-c0fe-48ca-8cbc-61a55853f752')\"\n",
              "            title=\"Convert this dataframe to an interactive table.\"\n",
              "            style=\"display:none;\">\n",
              "\n",
              "  <svg xmlns=\"http://www.w3.org/2000/svg\" height=\"24px\" viewBox=\"0 -960 960 960\">\n",
              "    <path d=\"M120-120v-720h720v720H120Zm60-500h600v-160H180v160Zm220 220h160v-160H400v160Zm0 220h160v-160H400v160ZM180-400h160v-160H180v160Zm440 0h160v-160H620v160ZM180-180h160v-160H180v160Zm440 0h160v-160H620v160Z\"/>\n",
              "  </svg>\n",
              "    </button>\n",
              "\n",
              "  <style>\n",
              "    .colab-df-container {\n",
              "      display:flex;\n",
              "      gap: 12px;\n",
              "    }\n",
              "\n",
              "    .colab-df-convert {\n",
              "      background-color: #E8F0FE;\n",
              "      border: none;\n",
              "      border-radius: 50%;\n",
              "      cursor: pointer;\n",
              "      display: none;\n",
              "      fill: #1967D2;\n",
              "      height: 32px;\n",
              "      padding: 0 0 0 0;\n",
              "      width: 32px;\n",
              "    }\n",
              "\n",
              "    .colab-df-convert:hover {\n",
              "      background-color: #E2EBFA;\n",
              "      box-shadow: 0px 1px 2px rgba(60, 64, 67, 0.3), 0px 1px 3px 1px rgba(60, 64, 67, 0.15);\n",
              "      fill: #174EA6;\n",
              "    }\n",
              "\n",
              "    .colab-df-buttons div {\n",
              "      margin-bottom: 4px;\n",
              "    }\n",
              "\n",
              "    [theme=dark] .colab-df-convert {\n",
              "      background-color: #3B4455;\n",
              "      fill: #D2E3FC;\n",
              "    }\n",
              "\n",
              "    [theme=dark] .colab-df-convert:hover {\n",
              "      background-color: #434B5C;\n",
              "      box-shadow: 0px 1px 3px 1px rgba(0, 0, 0, 0.15);\n",
              "      filter: drop-shadow(0px 1px 2px rgba(0, 0, 0, 0.3));\n",
              "      fill: #FFFFFF;\n",
              "    }\n",
              "  </style>\n",
              "\n",
              "    <script>\n",
              "      const buttonEl =\n",
              "        document.querySelector('#df-8c3ca2cb-c0fe-48ca-8cbc-61a55853f752 button.colab-df-convert');\n",
              "      buttonEl.style.display =\n",
              "        google.colab.kernel.accessAllowed ? 'block' : 'none';\n",
              "\n",
              "      async function convertToInteractive(key) {\n",
              "        const element = document.querySelector('#df-8c3ca2cb-c0fe-48ca-8cbc-61a55853f752');\n",
              "        const dataTable =\n",
              "          await google.colab.kernel.invokeFunction('convertToInteractive',\n",
              "                                                    [key], {});\n",
              "        if (!dataTable) return;\n",
              "\n",
              "        const docLinkHtml = 'Like what you see? Visit the ' +\n",
              "          '<a target=\"_blank\" href=https://colab.research.google.com/notebooks/data_table.ipynb>data table notebook</a>'\n",
              "          + ' to learn more about interactive tables.';\n",
              "        element.innerHTML = '';\n",
              "        dataTable['output_type'] = 'display_data';\n",
              "        await google.colab.output.renderOutput(dataTable, element);\n",
              "        const docLink = document.createElement('div');\n",
              "        docLink.innerHTML = docLinkHtml;\n",
              "        element.appendChild(docLink);\n",
              "      }\n",
              "    </script>\n",
              "  </div>\n",
              "\n",
              "\n",
              "<div id=\"df-3463d698-9fd0-4d25-9c1a-d84a6eae9aa4\">\n",
              "  <button class=\"colab-df-quickchart\" onclick=\"quickchart('df-3463d698-9fd0-4d25-9c1a-d84a6eae9aa4')\"\n",
              "            title=\"Suggest charts\"\n",
              "            style=\"display:none;\">\n",
              "\n",
              "<svg xmlns=\"http://www.w3.org/2000/svg\" height=\"24px\"viewBox=\"0 0 24 24\"\n",
              "     width=\"24px\">\n",
              "    <g>\n",
              "        <path d=\"M19 3H5c-1.1 0-2 .9-2 2v14c0 1.1.9 2 2 2h14c1.1 0 2-.9 2-2V5c0-1.1-.9-2-2-2zM9 17H7v-7h2v7zm4 0h-2V7h2v10zm4 0h-2v-4h2v4z\"/>\n",
              "    </g>\n",
              "</svg>\n",
              "  </button>\n",
              "\n",
              "<style>\n",
              "  .colab-df-quickchart {\n",
              "      --bg-color: #E8F0FE;\n",
              "      --fill-color: #1967D2;\n",
              "      --hover-bg-color: #E2EBFA;\n",
              "      --hover-fill-color: #174EA6;\n",
              "      --disabled-fill-color: #AAA;\n",
              "      --disabled-bg-color: #DDD;\n",
              "  }\n",
              "\n",
              "  [theme=dark] .colab-df-quickchart {\n",
              "      --bg-color: #3B4455;\n",
              "      --fill-color: #D2E3FC;\n",
              "      --hover-bg-color: #434B5C;\n",
              "      --hover-fill-color: #FFFFFF;\n",
              "      --disabled-bg-color: #3B4455;\n",
              "      --disabled-fill-color: #666;\n",
              "  }\n",
              "\n",
              "  .colab-df-quickchart {\n",
              "    background-color: var(--bg-color);\n",
              "    border: none;\n",
              "    border-radius: 50%;\n",
              "    cursor: pointer;\n",
              "    display: none;\n",
              "    fill: var(--fill-color);\n",
              "    height: 32px;\n",
              "    padding: 0;\n",
              "    width: 32px;\n",
              "  }\n",
              "\n",
              "  .colab-df-quickchart:hover {\n",
              "    background-color: var(--hover-bg-color);\n",
              "    box-shadow: 0 1px 2px rgba(60, 64, 67, 0.3), 0 1px 3px 1px rgba(60, 64, 67, 0.15);\n",
              "    fill: var(--button-hover-fill-color);\n",
              "  }\n",
              "\n",
              "  .colab-df-quickchart-complete:disabled,\n",
              "  .colab-df-quickchart-complete:disabled:hover {\n",
              "    background-color: var(--disabled-bg-color);\n",
              "    fill: var(--disabled-fill-color);\n",
              "    box-shadow: none;\n",
              "  }\n",
              "\n",
              "  .colab-df-spinner {\n",
              "    border: 2px solid var(--fill-color);\n",
              "    border-color: transparent;\n",
              "    border-bottom-color: var(--fill-color);\n",
              "    animation:\n",
              "      spin 1s steps(1) infinite;\n",
              "  }\n",
              "\n",
              "  @keyframes spin {\n",
              "    0% {\n",
              "      border-color: transparent;\n",
              "      border-bottom-color: var(--fill-color);\n",
              "      border-left-color: var(--fill-color);\n",
              "    }\n",
              "    20% {\n",
              "      border-color: transparent;\n",
              "      border-left-color: var(--fill-color);\n",
              "      border-top-color: var(--fill-color);\n",
              "    }\n",
              "    30% {\n",
              "      border-color: transparent;\n",
              "      border-left-color: var(--fill-color);\n",
              "      border-top-color: var(--fill-color);\n",
              "      border-right-color: var(--fill-color);\n",
              "    }\n",
              "    40% {\n",
              "      border-color: transparent;\n",
              "      border-right-color: var(--fill-color);\n",
              "      border-top-color: var(--fill-color);\n",
              "    }\n",
              "    60% {\n",
              "      border-color: transparent;\n",
              "      border-right-color: var(--fill-color);\n",
              "    }\n",
              "    80% {\n",
              "      border-color: transparent;\n",
              "      border-right-color: var(--fill-color);\n",
              "      border-bottom-color: var(--fill-color);\n",
              "    }\n",
              "    90% {\n",
              "      border-color: transparent;\n",
              "      border-bottom-color: var(--fill-color);\n",
              "    }\n",
              "  }\n",
              "</style>\n",
              "\n",
              "  <script>\n",
              "    async function quickchart(key) {\n",
              "      const quickchartButtonEl =\n",
              "        document.querySelector('#' + key + ' button');\n",
              "      quickchartButtonEl.disabled = true;  // To prevent multiple clicks.\n",
              "      quickchartButtonEl.classList.add('colab-df-spinner');\n",
              "      try {\n",
              "        const charts = await google.colab.kernel.invokeFunction(\n",
              "            'suggestCharts', [key], {});\n",
              "      } catch (error) {\n",
              "        console.error('Error during call to suggestCharts:', error);\n",
              "      }\n",
              "      quickchartButtonEl.classList.remove('colab-df-spinner');\n",
              "      quickchartButtonEl.classList.add('colab-df-quickchart-complete');\n",
              "    }\n",
              "    (() => {\n",
              "      let quickchartButtonEl =\n",
              "        document.querySelector('#df-3463d698-9fd0-4d25-9c1a-d84a6eae9aa4 button');\n",
              "      quickchartButtonEl.style.display =\n",
              "        google.colab.kernel.accessAllowed ? 'block' : 'none';\n",
              "    })();\n",
              "  </script>\n",
              "</div>\n",
              "\n",
              "    </div>\n",
              "  </div>\n"
            ],
            "application/vnd.google.colaboratory.intrinsic+json": {
              "type": "dataframe",
              "variable_name": "df1"
            }
          },
          "metadata": {},
          "execution_count": 21
        }
      ]
    },
    {
      "cell_type": "code",
      "source": [
        "from sklearn.preprocessing import LabelEncoder\n",
        "\n",
        "cat_col=['PATIENT_PREFIX','PATIENT_MARITAL','PATIENT_RACE','PATIENT_ETHNICITY','PATIENT_GENDER','encounter_ENCOUNTERCLASS','procedure_DESCRIPTION','PAYER_NAME']\n",
        "\n",
        "for i in cat_col:\n",
        "  le = LabelEncoder()\n",
        "\n",
        "  # Apply LabelEncoder to the 'Category' column\n",
        "  df1[i] = le.fit_transform(df1[i])"
      ],
      "metadata": {
        "id": "mNZM9DWDDD57"
      },
      "execution_count": 22,
      "outputs": []
    },
    {
      "cell_type": "code",
      "source": [
        "tgt=df1['encounter_TOTAL_CLAIM_COST']\n",
        "\n",
        "df1=df1.drop('encounter_TOTAL_CLAIM_COST',axis=1)"
      ],
      "metadata": {
        "id": "uyKzwK_pD-NR"
      },
      "execution_count": 23,
      "outputs": []
    },
    {
      "cell_type": "code",
      "source": [
        "from sklearn.model_selection import train_test_split\n",
        "\n",
        "X_train, X_test, y_train, y_test = train_test_split(df1, tgt, test_size=0.2, random_state=42)"
      ],
      "metadata": {
        "id": "6yENuAVPEFuo"
      },
      "execution_count": 25,
      "outputs": []
    },
    {
      "cell_type": "code",
      "source": [
        "#LASSO Feature Selection-\n",
        "\n",
        "from sklearn.linear_model import Lasso\n",
        "from sklearn.preprocessing import StandardScaler\n",
        "from sklearn.model_selection import train_test_split\n",
        "\n",
        "scaler = StandardScaler()\n",
        "X_scaled = scaler.fit_transform(X_train)\n",
        "\n",
        "# Train-test split\n",
        "X_train, X_test, y_train, y_test = train_test_split(X_scaled, y_train, test_size=0.2, random_state=42)"
      ],
      "metadata": {
        "id": "w8k2MKhoEUaD"
      },
      "execution_count": 26,
      "outputs": []
    },
    {
      "cell_type": "code",
      "source": [
        "lasso = Lasso(alpha=0.3)  # Alpha controls regularization strength\n",
        "lasso.fit(X_train, y_train)\n",
        "\n",
        "# Get feature importance\n",
        "selected_features = df1.columns[lasso.coef_ != 0]\n",
        "removed_features = df1.columns[lasso.coef_ == 0]\n",
        "\n",
        "print(\"Selected Features:\", selected_features.tolist())\n",
        "print(\"Removed Features:\", removed_features.tolist())"
      ],
      "metadata": {
        "colab": {
          "base_uri": "https://localhost:8080/"
        },
        "id": "engsn4tIEvYD",
        "outputId": "c70feef1-a8b2-4a3f-9a3c-2c52113a2174"
      },
      "execution_count": 29,
      "outputs": [
        {
          "output_type": "stream",
          "name": "stdout",
          "text": [
            "Selected Features: ['PATIENT_PREFIX', 'PATIENT_MARITAL', 'PATIENT_RACE', 'PATIENT_ETHNICITY', 'PATIENT_GENDER', 'encounter_ENCOUNTERCLASS', 'encounter_BASE_ENCOUNTER_COST', 'encounter_PAYER_COVERAGE', 'procedure_CODE', 'procedure_DESCRIPTION', 'procedure_BASE_COST', 'PAYER_NAME']\n",
            "Removed Features: []\n"
          ]
        }
      ]
    },
    {
      "cell_type": "code",
      "source": [
        "#Outlier Detection\n",
        "\n",
        "df1['encounter_TOTAL_CLAIM_COST']=tgt\n",
        "\n",
        "from sklearn.ensemble import IsolationForest\n",
        "\n",
        "iso_forest = IsolationForest(contamination=0.05, random_state=42)\n",
        "outlier_preds = iso_forest.fit_predict(df1)\n",
        "\n",
        "df1['Outlier'] = outlier_preds\n"
      ],
      "metadata": {
        "id": "157Qx8aPFIWn"
      },
      "execution_count": 41,
      "outputs": []
    },
    {
      "cell_type": "code",
      "source": [
        "#Feature Importance in IsoForest\n",
        "\n",
        "tgt_1=df1['Outlier']\n",
        "\n",
        "df1=df1.drop('Outlier',axis=1)\n",
        "\n",
        "# Compute feature importance using mean path length\n",
        "feature_importance = np.mean([tree.feature_importances_ for tree in iso_forest.estimators_], axis=0)\n",
        "\n",
        "# Convert to DataFrame\n",
        "feature_importance_df = pd.DataFrame({'Feature': [f'{i}' for i in df1.columns],\n",
        "                                      'Importance': feature_importance})\n",
        "print(feature_importance_df.sort_values(by='Importance', ascending=False))"
      ],
      "metadata": {
        "colab": {
          "base_uri": "https://localhost:8080/"
        },
        "id": "WMVGZI5lHc4u",
        "outputId": "364fb07a-a953-4fde-d325-eb0541d9f6fb"
      },
      "execution_count": 43,
      "outputs": [
        {
          "output_type": "stream",
          "name": "stdout",
          "text": [
            "                          Feature  Importance\n",
            "12     encounter_TOTAL_CLAIM_COST    0.145792\n",
            "9           procedure_DESCRIPTION    0.114257\n",
            "10            procedure_BASE_COST    0.113872\n",
            "8                  procedure_CODE    0.106354\n",
            "5        encounter_ENCOUNTERCLASS    0.089106\n",
            "7        encounter_PAYER_COVERAGE    0.085351\n",
            "11                     PAYER_NAME    0.073662\n",
            "6   encounter_BASE_ENCOUNTER_COST    0.070014\n",
            "2                    PATIENT_RACE    0.063652\n",
            "3               PATIENT_ETHNICITY    0.040961\n",
            "0                  PATIENT_PREFIX    0.039228\n",
            "1                 PATIENT_MARITAL    0.029056\n",
            "4                  PATIENT_GENDER    0.028696\n"
          ]
        }
      ]
    },
    {
      "cell_type": "code",
      "source": [
        "#LightGBM\n",
        "\n",
        "import lightgbm as lgb\n",
        "\n",
        "# Convert data into LightGBM Dataset format\n",
        "train_data = lgb.Dataset(X_train, label=y_train)\n",
        "test_data = lgb.Dataset(X_test, label=y_test, reference=train_data)\n",
        "\n",
        "# Define parameters\n",
        "params = {\n",
        "    'objective': 'regression',\n",
        "    'metric': 'rmse',\n",
        "    'boosting_type': 'gbdt',\n",
        "    'learning_rate': 0.05,\n",
        "    'num_leaves': 31,\n",
        "    'max_depth': -1,\n",
        "    'verbose': -1\n",
        "}\n",
        "\n",
        "# Train model\n",
        "model = lgb.train(params, train_data, valid_sets=[test_data], num_boost_round=100)"
      ],
      "metadata": {
        "id": "Sk72D0BnF-O2"
      },
      "execution_count": 33,
      "outputs": []
    },
    {
      "cell_type": "code",
      "source": [
        "from sklearn.metrics import mean_squared_error\n",
        "import numpy as np\n",
        "y_pred = model.predict(X_test)\n",
        "\n",
        "# Compute RMSE\n",
        "rmse = np.sqrt(mean_squared_error(y_test, y_pred))\n",
        "print(f'RMSE: {rmse:.4f}')"
      ],
      "metadata": {
        "colab": {
          "base_uri": "https://localhost:8080/"
        },
        "id": "2IsH7u88Gd7Z",
        "outputId": "06e9a44e-0303-4c77-a648-cb470510b135"
      },
      "execution_count": 36,
      "outputs": [
        {
          "output_type": "stream",
          "name": "stdout",
          "text": [
            "RMSE: 4348.9936\n"
          ]
        }
      ]
    }
  ]
}